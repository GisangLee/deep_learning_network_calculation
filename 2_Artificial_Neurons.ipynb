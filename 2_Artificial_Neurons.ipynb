{
  "nbformat": 4,
  "nbformat_minor": 0,
  "metadata": {
    "colab": {
      "provenance": [],
      "authorship_tag": "ABX9TyM8bBLMWhJh09g7c74JXI11",
      "include_colab_link": true
    },
    "kernelspec": {
      "name": "python3",
      "display_name": "Python 3"
    },
    "language_info": {
      "name": "python"
    }
  },
  "cells": [
    {
      "cell_type": "markdown",
      "metadata": {
        "id": "view-in-github",
        "colab_type": "text"
      },
      "source": [
        "<a href=\"https://colab.research.google.com/github/GisangLee/deep_learning_network_calculation/blob/main/2_Artificial_Neurons.ipynb\" target=\"_parent\"><img src=\"https://colab.research.google.com/assets/colab-badge.svg\" alt=\"Open In Colab\"/></a>"
      ]
    },
    {
      "cell_type": "markdown",
      "source": [
        "## 1. Affine Functions with One Feature"
      ],
      "metadata": {
        "id": "bDcJobpDLmB6"
      }
    },
    {
      "cell_type": "markdown",
      "source": [
        "### Weighted Sum\n",
        "\n",
        "> z = xw\n",
        "   - w : weight\n",
        "\n",
        "> Weight는 input값에 곱해져 output을 변화시키는 존재"
      ],
      "metadata": {
        "id": "N4iwLMKXLrp-"
      }
    },
    {
      "cell_type": "markdown",
      "source": [
        "### Affine Transformation\n",
        "\n",
        "> z = xw + b\n",
        "  - input에 weight을 곱한 후 bias를 더해준다."
      ],
      "metadata": {
        "id": "l2W8UylkL8ZU"
      }
    },
    {
      "cell_type": "code",
      "source": [
        "# Affine Functions with 1 Feature\n",
        "\n",
        "import tensorflow as tf\n",
        "from tensorflow.keras.layers import Dense\n",
        "\n",
        "# input setting\n",
        "# Input은 metric 형태로 만들어야한다.\n",
        "x = tf.constant([[10.]])\n",
        "\n",
        "# affine function\n",
        "# Dense는 weigth, bias를 가지고 있다\n",
        "dense = Dense(units=1, activation=\"linear\")\n",
        "\n",
        "# y값 연산\n",
        "# forward propagation + params initialization\n",
        "y_tf = dense(x)\n",
        "\n",
        "# weight, bias 출력\n",
        "W, B = dense.get_weights()\n",
        "\n",
        "# forward propagation manullaly\n",
        "y_man = tf.linalg.matmul(x, W) + B\n",
        "\n",
        "print(\"======= Input/Weight/Bias ===========\")\n",
        "print(f\"x : {x.shape}\\n{x.numpy()}\\n\")\n",
        "print(f\"w : {W}\\n b: {B}\\n\")\n",
        "\n",
        "print(f\"========= Output ==============\")\n",
        "print(f\"y ( Tensorflow ) : {y_tf.shape}\\n{y_tf.numpy()}\\n\")\n",
        "print(f\"y ( Manullaly ) : {y_man.shape}\\n{y_man}\\n\")"
      ],
      "metadata": {
        "colab": {
          "base_uri": "https://localhost:8080/"
        },
        "id": "O12a7AyLgp3L",
        "outputId": "9ddeb8ef-e976-4c19-db0f-d04b04a10121"
      },
      "execution_count": 16,
      "outputs": [
        {
          "output_type": "stream",
          "name": "stdout",
          "text": [
            "======= Input/Weight/Bias ===========\n",
            "x : (1, 1)\n",
            "[[10.]]\n",
            "\n",
            "w : [[1.5401791]]\n",
            " b: [0.]\n",
            "\n",
            "========= Output ==============\n",
            "y ( Tensorflow ) : (1, 1)\n",
            "[[15.401792]]\n",
            "\n",
            "y ( Manullaly ) : (1, 1)\n",
            "[[15.401792]]\n",
            "\n"
          ]
        }
      ]
    },
    {
      "cell_type": "code",
      "source": [
        "# Params Initialization\n",
        "\n",
        "import tensorflow as tf\n",
        "from tensorflow.keras.layers import Dense\n",
        "from tensorflow.keras.initializers import Constant\n",
        "\n",
        "x = tf.constant([[10.]])\n",
        "\n",
        "# weight / bias\n",
        "w, b = tf.constant(10.), tf.constant(20.)\n",
        "w_init, b_init = Constant(w), Constant(b)\n",
        "\n",
        "\n",
        "# affine functions\n",
        "dense = Dense(\n",
        "    units=1,\n",
        "    activation=\"linear\",\n",
        "    kernel_initializer=w_init,\n",
        "    bias_initializer=b_init\n",
        ")\n",
        "\n",
        "y_tf = dense(x)\n",
        "\n",
        "W, B = dense.get_weights()\n",
        "\n",
        "print(f\"W : {W.shape}\\n{W}\\n\")\n",
        "print(f\"B : {B.shape}\\n{B}\\n\")"
      ],
      "metadata": {
        "colab": {
          "base_uri": "https://localhost:8080/"
        },
        "id": "RucD4jr7gv-x",
        "outputId": "dff4708d-1892-4bce-995a-138dc96f2e1c"
      },
      "execution_count": 29,
      "outputs": [
        {
          "output_type": "stream",
          "name": "stdout",
          "text": [
            "W : (1, 1)\n",
            "[[10.]]\n",
            "\n",
            "B : (1,)\n",
            "[20.]\n",
            "\n"
          ]
        }
      ]
    },
    {
      "cell_type": "markdown",
      "source": [
        "#### Affine Function with N Features"
      ],
      "metadata": {
        "id": "RWYiKFU9lekI"
      }
    },
    {
      "cell_type": "code",
      "source": [
        "import tensorflow as tf\n",
        "from tensorflow.keras.layers import Dense\n",
        "\n",
        "x = tf.random.uniform(shape=(1, 10), minval=0, maxval=10)\n",
        "\n",
        "\n",
        "dense = Dense(\n",
        "    units=1\n",
        ")\n",
        "\n",
        "y_tf = dense(x)\n",
        "\n",
        "W, B = dense.get_weights()\n",
        "\n",
        "# y_man = X^T * W + b = z\n",
        "y_man = tf.linalg.matmul(x, W) + B\n",
        "\n",
        "print(\"======= Input/Weight/Bias ===========\")\n",
        "print(f\"x : {x.shape}\\n{x.numpy()}\\n\")\n",
        "print(f\"w : {W.shape}\\n{W}\\n\")\n",
        "print(f\"b : {B.shape}\\n{B}\\n\")\n",
        "\n",
        "print(f\"========= Output ==============\")\n",
        "print(f\"y ( Tensorflow ) : {y_tf.shape}\\n{y_tf.numpy()}\\n\")\n",
        "print(f\"y ( Manullaly ) : {y_man.shape}\\n{y_man}\\n\")"
      ],
      "metadata": {
        "colab": {
          "base_uri": "https://localhost:8080/"
        },
        "id": "7F-XG7SSlh7y",
        "outputId": "63fae12c-e3f2-4927-e293-1f926786c717"
      },
      "execution_count": 35,
      "outputs": [
        {
          "output_type": "stream",
          "name": "stdout",
          "text": [
            "======= Input/Weight/Bias ===========\n",
            "x : (1, 10)\n",
            "[[5.8892846  0.912683   8.315819   9.8596945  0.37800908 4.2235146\n",
            "  4.982388   4.770267   9.785839   3.5090756 ]]\n",
            "\n",
            "w : (10, 1)\n",
            "[[ 0.36639374]\n",
            " [ 0.17793477]\n",
            " [ 0.6316677 ]\n",
            " [ 0.07071316]\n",
            " [ 0.22269827]\n",
            " [-0.10401112]\n",
            " [ 0.3596707 ]\n",
            " [-0.3529274 ]\n",
            " [ 0.54569846]\n",
            " [-0.50378454]]\n",
            "\n",
            "b : (1,)\n",
            "[0.]\n",
            "\n",
            "========= Output ==============\n",
            "y ( Tensorflow ) : (1, 1)\n",
            "[[11.595889]]\n",
            "\n",
            "y ( Manullaly ) : (1, 1)\n",
            "[[11.595889]]\n",
            "\n"
          ]
        }
      ]
    },
    {
      "cell_type": "markdown",
      "source": [
        "## 2. Activation Functions"
      ],
      "metadata": {
        "id": "qCGUMiS3OVnC"
      }
    },
    {
      "cell_type": "markdown",
      "source": [
        "### Sigmoid"
      ],
      "metadata": {
        "id": "JhnevnSlOeKr"
      }
    },
    {
      "cell_type": "markdown",
      "source": [
        "### Tanh"
      ],
      "metadata": {
        "id": "ApD3fmI2Ojq8"
      }
    },
    {
      "cell_type": "markdown",
      "source": [
        "### ReLu"
      ],
      "metadata": {
        "id": "sRwAwn6GOncF"
      }
    },
    {
      "cell_type": "markdown",
      "source": [
        "## 3. Artificial Neurons\n",
        "\n",
        "\n",
        "- Affine Function + Activations Functions"
      ],
      "metadata": {
        "id": "jnr9Y27ZPDA4"
      }
    },
    {
      "cell_type": "code",
      "execution_count": 43,
      "metadata": {
        "colab": {
          "base_uri": "https://localhost:8080/"
        },
        "id": "Ap_ZZlBQLNd7",
        "outputId": "d735479f-5b37-4965-cbbb-50bfc606c39e"
      },
      "outputs": [
        {
          "output_type": "stream",
          "name": "stdout",
          "text": [
            "x : (1, 5)\n",
            "[[0.3555894  0.56863    0.19730711 0.58163273 0.3465097 ]]\n",
            "\n",
            " y ( Tensor sigmoid ) : (1, 5)\n",
            "[[0.58797234 0.638447   0.54916734 0.641443   0.58577096]]\n",
            "\n",
            " y ( Manullaly sigmoid ) : (1, 5)\n",
            "[[0.5879723  0.638447   0.5491674  0.641443   0.58577096]]\n",
            "\n",
            " y ( Tensor tanh ) : (1, 5)\n",
            "[[0.34132314 0.51435244 0.19478597 0.52385116 0.33327654]]\n",
            "\n",
            " y ( Manullaly tanh ) : (1, 5)\n",
            "[[0.34132314 0.51435244 0.19478597 0.5238511  0.33327654]]\n",
            "\n",
            " y ( Tensor relu ) : (1, 5)\n",
            "[[0.3555894  0.56863    0.19730711 0.58163273 0.3465097 ]]\n",
            "\n",
            " y ( Manullaly relu ) : (1, 5)\n",
            "[[0.3555894  0.56863    0.19730711 0.58163273 0.3465097 ]]\n",
            "\n"
          ]
        }
      ],
      "source": [
        "# Activation Layers\n",
        "\n",
        "import tensorflow as tensorflow\n",
        "from tensorflow.math import exp, maximum\n",
        "from tensorflow.keras.layers import Activation\n",
        "\n",
        "# input setting\n",
        "x = tf.random.uniform(\n",
        "    shape=(1, 5)\n",
        ")\n",
        "\n",
        "# activation function\n",
        "sigmoid = Activation(\"sigmoid\")\n",
        "tanh = Activation(\"tanh\")\n",
        "relu = Activation(\"relu\")\n",
        "\n",
        "# forward propagation\n",
        "y_sigmoid_tf = sigmoid(x)\n",
        "y_tanh_tf = tanh(x)\n",
        "y_relu_tf = relu(x)\n",
        "\n",
        "# forward propagation manullaly\n",
        "y_sigmoid_man = 1 / (1 + exp(-x))\n",
        "y_tanh_man = (exp(x) - exp(-x)) / (exp(x) + exp(-x))\n",
        "y_relu_man = maximum(x, 0)\n",
        "\n",
        "print(f\"x : {x.shape}\\n{x}\\n\")\n",
        "print(f\" y ( Tensor sigmoid ) : {y_sigmoid_tf.shape}\\n{y_sigmoid_tf.numpy()}\\n\")\n",
        "print(f\" y ( Manullaly sigmoid ) : {y_sigmoid_man.shape}\\n{y_sigmoid_man}\\n\")\n",
        "\n",
        "print(f\" y ( Tensor tanh ) : {y_tanh_tf.shape}\\n{y_tanh_tf.numpy()}\\n\")\n",
        "print(f\" y ( Manullaly tanh ) : {y_tanh_man.shape}\\n{y_tanh_man}\\n\")\n",
        "\n",
        "print(f\" y ( Tensor relu ) : {y_relu_tf.shape}\\n{y_relu_tf.numpy()}\\n\")\n",
        "print(f\" y ( Manullaly relu ) : {y_relu_man.shape}\\n{y_relu_man}\\n\")"
      ]
    },
    {
      "cell_type": "code",
      "source": [
        "# Activation in Dense Layer\n",
        "\n",
        "import tensorflow as tf\n",
        "from tensorflow.math import exp, maximum\n",
        "from tensorflow.keras.layers import Dense\n",
        "\n",
        "# input setting\n",
        "x = tf.random.uniform(\n",
        "    shape=(1, 5)\n",
        ")\n",
        "\n",
        "# artificial neurons\n",
        "dense_sigmoid = Dense(\n",
        "    units=1,\n",
        "    activation=\"sigmoid\"\n",
        ")\n",
        "\n",
        "dense_tanh = Dense(\n",
        "    units=1,\n",
        "    activation=\"tanh\"\n",
        ")\n",
        "\n",
        "dense_relu = Dense(\n",
        "    units=1,\n",
        "    activation=\"relu\"\n",
        ")\n",
        "\n",
        "\n",
        "# forward propagation\n",
        "y_sigmoid = dense_sigmoid(x)\n",
        "y_tanh = dense_tanh(x)\n",
        "y_relu = dense_relu(x)\n",
        "\n",
        "print(f\"AN with Sigmoid : {y_sigmoid.shape}\\n{y_sigmoid.numpy()}\\n\")\n",
        "print(f\"AN with Tanh : {y_tanh.shape}\\n{y_tanh.numpy()}\\n\")\n",
        "print(f\"AN with ReLu : {y_relu.shape}\\n{y_relu.numpy()}\\n\")\n",
        "\n",
        "\n",
        "# forward propagation manually\n",
        "print(\"\\n===========\\n\")\n",
        "w, b = dense_sigmoid.get_weights()\n",
        "\n",
        "z = tf.linalg.matmul(x, w) + b\n",
        "a = 1 / (1 + exp(-z))\n",
        "\n",
        "print(f\"AN with Sigmoid man: {y_sigmoid.shape}\\n{y_sigmoid.numpy()}\\n\")"
      ],
      "metadata": {
        "colab": {
          "base_uri": "https://localhost:8080/"
        },
        "id": "MoPt6UiBnWF7",
        "outputId": "645cccd4-f12e-4f0b-b054-dea0711f56a6"
      },
      "execution_count": 54,
      "outputs": [
        {
          "output_type": "stream",
          "name": "stdout",
          "text": [
            "AN with Sigmoid : (1, 1)\n",
            "[[0.19723105]]\n",
            "\n",
            "AN with Tanh : (1, 1)\n",
            "[[-0.35695013]]\n",
            "\n",
            "AN with ReLu : (1, 1)\n",
            "[[0.69314903]]\n",
            "\n",
            "\n",
            "===========\n",
            "\n",
            "AN with Sigmoid man: (1, 1)\n",
            "[[0.19723105]]\n",
            "\n"
          ]
        }
      ]
    },
    {
      "cell_type": "code",
      "source": [
        "# Minibatches\n",
        "\n",
        "# Shapes of Dense Layer\n",
        "\n",
        "import tensorflow as tf\n",
        "from tensorflow.keras.layers import Dense\n",
        "\n",
        "N, n_feature = 16, 10\n",
        "\n",
        "x = tf.random.uniform(shape=(N, n_feature))\n",
        "\n",
        "dense = Dense(\n",
        "    units=1,\n",
        "    activation=\"relu\"\n",
        ")\n",
        "\n",
        "y = dense(x)\n",
        "W, B = dense.get_weights()\n",
        "\n",
        "print(f\"shape of x : {x.shape}\\n\")\n",
        "print(f\"shape of W : {W.shape}\\n\")\n",
        "print(f\"shape of B : {B.shape}\\n\")"
      ],
      "metadata": {
        "colab": {
          "base_uri": "https://localhost:8080/"
        },
        "id": "3z0mxYzwnYdo",
        "outputId": "eb294edb-67b3-469f-8a94-633ad3b308ba"
      },
      "execution_count": 57,
      "outputs": [
        {
          "output_type": "stream",
          "name": "stdout",
          "text": [
            "shape of x : (16, 10)\n",
            "\n",
            "shape of W : (10, 1)\n",
            "\n",
            "shape of B : (1,)\n",
            "\n"
          ]
        }
      ]
    },
    {
      "cell_type": "code",
      "source": [
        "# Output Caculations\n",
        "\n",
        "import tensorflow as tf\n",
        "from tensorflow.math import exp\n",
        "from tensorflow.keras.layers import Dense\n",
        "\n",
        "N, n_feature = 16, 10\n",
        "x = tf.random.uniform(shape=(N, n_feature))\n",
        "\n",
        "dense = Dense(\n",
        "    units=1,\n",
        "    activation=\"sigmoid\"\n",
        ")\n",
        "\n",
        "y_tf = dense(x) # forward propagation tf\n",
        "\n",
        "W, B = dense.get_weights()\n",
        "\n",
        "y_man = tf.linalg.matmul(x, W) + B # forward propagation manulally\n",
        "y_man = 1 / ( 1 + exp(-y_man))\n",
        "\n",
        "print(f\"=========== Tensor Results ============\")\n",
        "print(f\"{y_tf.numpy()}\\n\")\n",
        "print(f\"=========== Manulally Results ============\")\n",
        "print(f\"{y_man.numpy()}\\n\")\n",
        "\n",
        "\n"
      ],
      "metadata": {
        "colab": {
          "base_uri": "https://localhost:8080/"
        },
        "id": "o9bzGzW2seJy",
        "outputId": "f8e6273f-e652-424e-c6e1-7715a8f06614"
      },
      "execution_count": 66,
      "outputs": [
        {
          "output_type": "stream",
          "name": "stdout",
          "text": [
            "=========== Tensor Results ============\n",
            "[[0.84754556]\n",
            " [0.8233308 ]\n",
            " [0.7948987 ]\n",
            " [0.9204365 ]\n",
            " [0.9068081 ]\n",
            " [0.8899631 ]\n",
            " [0.8364588 ]\n",
            " [0.9111186 ]\n",
            " [0.8889987 ]\n",
            " [0.8899374 ]\n",
            " [0.868318  ]\n",
            " [0.8700981 ]\n",
            " [0.8198172 ]\n",
            " [0.90744567]\n",
            " [0.91196805]\n",
            " [0.85605943]]\n",
            "\n",
            "=========== Manulally Results ============\n",
            "[[0.8475456 ]\n",
            " [0.8233308 ]\n",
            " [0.7948986 ]\n",
            " [0.9204365 ]\n",
            " [0.906808  ]\n",
            " [0.8899631 ]\n",
            " [0.8364588 ]\n",
            " [0.9111186 ]\n",
            " [0.88899875]\n",
            " [0.8899374 ]\n",
            " [0.8683181 ]\n",
            " [0.8700981 ]\n",
            " [0.8198172 ]\n",
            " [0.9074456 ]\n",
            " [0.9119681 ]\n",
            " [0.8560594 ]]\n",
            "\n"
          ]
        }
      ]
    },
    {
      "cell_type": "code",
      "source": [],
      "metadata": {
        "id": "yl-pX7sctOaC"
      },
      "execution_count": null,
      "outputs": []
    }
  ]
}