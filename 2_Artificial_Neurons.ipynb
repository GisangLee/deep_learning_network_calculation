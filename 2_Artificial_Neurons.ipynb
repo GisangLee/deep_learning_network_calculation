{
  "nbformat": 4,
  "nbformat_minor": 0,
  "metadata": {
    "colab": {
      "provenance": [],
      "authorship_tag": "ABX9TyOYsRsI20u/SCGemKqWusCR",
      "include_colab_link": true
    },
    "kernelspec": {
      "name": "python3",
      "display_name": "Python 3"
    },
    "language_info": {
      "name": "python"
    }
  },
  "cells": [
    {
      "cell_type": "markdown",
      "metadata": {
        "id": "view-in-github",
        "colab_type": "text"
      },
      "source": [
        "<a href=\"https://colab.research.google.com/github/GisangLee/deep_learning_network_calculation/blob/main/2_Artificial_Neurons.ipynb\" target=\"_parent\"><img src=\"https://colab.research.google.com/assets/colab-badge.svg\" alt=\"Open In Colab\"/></a>"
      ]
    },
    {
      "cell_type": "markdown",
      "source": [
        "## 1. Affine Functions with One Feature"
      ],
      "metadata": {
        "id": "bDcJobpDLmB6"
      }
    },
    {
      "cell_type": "markdown",
      "source": [
        "### Weighted Sum\n",
        "\n",
        "> z = xw\n",
        "   - w : weight\n",
        "\n",
        "> Weight는 input값에 곱해져 output을 변화시키는 존재"
      ],
      "metadata": {
        "id": "N4iwLMKXLrp-"
      }
    },
    {
      "cell_type": "markdown",
      "source": [
        "### Affine Transformation\n",
        "\n",
        "> z = xw + b\n",
        "  - input에 weight을 곱한 후 bias를 더해준다."
      ],
      "metadata": {
        "id": "l2W8UylkL8ZU"
      }
    },
    {
      "cell_type": "code",
      "source": [
        "# Affine Functions with 1 Feature\n",
        "\n",
        "import tensorflow as tf\n",
        "from tensorflow.keras.layers import Dense\n",
        "\n",
        "# input setting\n",
        "# Input은 metric 형태로 만들어야한다.\n",
        "x = tf.constant([[10.]])\n",
        "\n",
        "# affine function\n",
        "# Dense는 weigth, bias를 가지고 있다\n",
        "dense = Dense(units=1, activation=\"linear\")\n",
        "\n",
        "# y값 연산\n",
        "# forward propagation + params initialization\n",
        "y_tf = dense(x)\n",
        "\n",
        "# weight, bias 출력\n",
        "W, B = dense.get_weights()\n",
        "\n",
        "# forward propagation manullaly\n",
        "y_man = tf.linalg.matmul(x, W) + B\n",
        "\n",
        "print(\"======= Input/Weight/Bias ===========\")\n",
        "print(f\"x : {x.shape}\\n{x.numpy()}\\n\")\n",
        "print(f\"w : {W}\\n b: {B}\\n\")\n",
        "\n",
        "print(f\"========= Output ==============\")\n",
        "print(f\"y ( Tensorflow ) : {y_tf.shape}\\n{y_tf.numpy()}\\n\")\n",
        "print(f\"y ( Manullaly ) : {y_man.shape}\\n{y_man}\\n\")"
      ],
      "metadata": {
        "colab": {
          "base_uri": "https://localhost:8080/"
        },
        "id": "O12a7AyLgp3L",
        "outputId": "9ddeb8ef-e976-4c19-db0f-d04b04a10121"
      },
      "execution_count": 16,
      "outputs": [
        {
          "output_type": "stream",
          "name": "stdout",
          "text": [
            "======= Input/Weight/Bias ===========\n",
            "x : (1, 1)\n",
            "[[10.]]\n",
            "\n",
            "w : [[1.5401791]]\n",
            " b: [0.]\n",
            "\n",
            "========= Output ==============\n",
            "y ( Tensorflow ) : (1, 1)\n",
            "[[15.401792]]\n",
            "\n",
            "y ( Manullaly ) : (1, 1)\n",
            "[[15.401792]]\n",
            "\n"
          ]
        }
      ]
    },
    {
      "cell_type": "code",
      "source": [
        "# Params Initialization\n",
        "\n",
        "import tensorflow as tf\n",
        "from tensorflow.keras.layers import Dense\n",
        "from tensorflow.keras.initializers import Constant\n",
        "\n",
        "x = tf.constant([[10.]])\n",
        "\n",
        "# weight / bias\n",
        "w, b = tf.constant(10.), tf.constant(20.)\n",
        "w_init, b_init = Constant(w), Constant(b)\n",
        "\n",
        "\n",
        "# affine functions\n",
        "dense = Dense(\n",
        "    units=1,\n",
        "    activation=\"linear\",\n",
        "    kernel_initializer=w_init,\n",
        "    bias_initializer=b_init\n",
        ")\n",
        "\n",
        "y_tf = dense(x)\n",
        "\n",
        "W, B = dense.get_weights()\n",
        "\n",
        "print(f\"W : {W.shape}\\n{W}\\n\")\n",
        "print(f\"B : {B.shape}\\n{B}\\n\")"
      ],
      "metadata": {
        "colab": {
          "base_uri": "https://localhost:8080/"
        },
        "id": "RucD4jr7gv-x",
        "outputId": "dff4708d-1892-4bce-995a-138dc96f2e1c"
      },
      "execution_count": 29,
      "outputs": [
        {
          "output_type": "stream",
          "name": "stdout",
          "text": [
            "W : (1, 1)\n",
            "[[10.]]\n",
            "\n",
            "B : (1,)\n",
            "[20.]\n",
            "\n"
          ]
        }
      ]
    },
    {
      "cell_type": "markdown",
      "source": [
        "#### Affine Function with N Features"
      ],
      "metadata": {
        "id": "RWYiKFU9lekI"
      }
    },
    {
      "cell_type": "code",
      "source": [
        "import tensorflow as tf\n",
        "from tensorflow.keras.layers import Dense\n",
        "\n",
        "x = tf.random.uniform(shape=(1, 10), minval=0, maxval=10)\n",
        "\n",
        "\n",
        "dense = Dense(\n",
        "    units=1\n",
        ")\n",
        "\n",
        "y_tf = dense(x)\n",
        "\n",
        "W, B = dense.get_weights()\n",
        "\n",
        "# y_man = X^T * W + b = z\n",
        "y_man = tf.linalg.matmul(x, W) + B\n",
        "\n",
        "print(\"======= Input/Weight/Bias ===========\")\n",
        "print(f\"x : {x.shape}\\n{x.numpy()}\\n\")\n",
        "print(f\"w : {W.shape}\\n{W}\\n\")\n",
        "print(f\"b : {B.shape}\\n{B}\\n\")\n",
        "\n",
        "print(f\"========= Output ==============\")\n",
        "print(f\"y ( Tensorflow ) : {y_tf.shape}\\n{y_tf.numpy()}\\n\")\n",
        "print(f\"y ( Manullaly ) : {y_man.shape}\\n{y_man}\\n\")"
      ],
      "metadata": {
        "colab": {
          "base_uri": "https://localhost:8080/"
        },
        "id": "7F-XG7SSlh7y",
        "outputId": "63fae12c-e3f2-4927-e293-1f926786c717"
      },
      "execution_count": 35,
      "outputs": [
        {
          "output_type": "stream",
          "name": "stdout",
          "text": [
            "======= Input/Weight/Bias ===========\n",
            "x : (1, 10)\n",
            "[[5.8892846  0.912683   8.315819   9.8596945  0.37800908 4.2235146\n",
            "  4.982388   4.770267   9.785839   3.5090756 ]]\n",
            "\n",
            "w : (10, 1)\n",
            "[[ 0.36639374]\n",
            " [ 0.17793477]\n",
            " [ 0.6316677 ]\n",
            " [ 0.07071316]\n",
            " [ 0.22269827]\n",
            " [-0.10401112]\n",
            " [ 0.3596707 ]\n",
            " [-0.3529274 ]\n",
            " [ 0.54569846]\n",
            " [-0.50378454]]\n",
            "\n",
            "b : (1,)\n",
            "[0.]\n",
            "\n",
            "========= Output ==============\n",
            "y ( Tensorflow ) : (1, 1)\n",
            "[[11.595889]]\n",
            "\n",
            "y ( Manullaly ) : (1, 1)\n",
            "[[11.595889]]\n",
            "\n"
          ]
        }
      ]
    },
    {
      "cell_type": "markdown",
      "source": [
        "## 2. Activation Functions"
      ],
      "metadata": {
        "id": "qCGUMiS3OVnC"
      }
    },
    {
      "cell_type": "markdown",
      "source": [
        "### Sigmoid"
      ],
      "metadata": {
        "id": "JhnevnSlOeKr"
      }
    },
    {
      "cell_type": "markdown",
      "source": [
        "### Tanh"
      ],
      "metadata": {
        "id": "ApD3fmI2Ojq8"
      }
    },
    {
      "cell_type": "markdown",
      "source": [
        "### ReLu"
      ],
      "metadata": {
        "id": "sRwAwn6GOncF"
      }
    },
    {
      "cell_type": "markdown",
      "source": [
        "## 3. Artificial Neurons\n",
        "\n",
        "\n",
        "- Affine Function + Activations Functions"
      ],
      "metadata": {
        "id": "jnr9Y27ZPDA4"
      }
    },
    {
      "cell_type": "code",
      "execution_count": null,
      "metadata": {
        "id": "Ap_ZZlBQLNd7"
      },
      "outputs": [],
      "source": []
    }
  ]
}