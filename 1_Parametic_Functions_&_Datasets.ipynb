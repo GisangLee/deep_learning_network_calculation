{
  "nbformat": 4,
  "nbformat_minor": 0,
  "metadata": {
    "colab": {
      "provenance": [],
      "authorship_tag": "ABX9TyP2HekGg9dRQCLJ4oZMx/WP",
      "include_colab_link": true
    },
    "kernelspec": {
      "name": "python3",
      "display_name": "Python 3"
    },
    "language_info": {
      "name": "python"
    }
  },
  "cells": [
    {
      "cell_type": "markdown",
      "metadata": {
        "id": "view-in-github",
        "colab_type": "text"
      },
      "source": [
        "<a href=\"https://colab.research.google.com/github/GisangLee/deep_learning_network_calculation/blob/main/1_Parametic_Functions_%26_Datasets.ipynb\" target=\"_parent\"><img src=\"https://colab.research.google.com/assets/colab-badge.svg\" alt=\"Open In Colab\"/></a>"
      ]
    },
    {
      "cell_type": "markdown",
      "source": [
        "# Artificial Neural Network"
      ],
      "metadata": {
        "id": "gAZFmHzbtiIr"
      }
    },
    {
      "cell_type": "markdown",
      "source": [
        "## 1. Functions\n",
        "\n",
        "> 일반적인 함수는 input을 정해진 연산 규칙에 따라서 Output을 만들어내는 것\n",
        "  - z = log(x)"
      ],
      "metadata": {
        "id": "Qw9F0uDftmhn"
      }
    },
    {
      "cell_type": "markdown",
      "source": [
        "## 2. Parametric Functions\n",
        "\n",
        "> input과 파라미터를 동시에 가지고 있는 함수\n",
        "  - z = x + θ\n",
        "  - θ가 달라지면 함수의 작동이 달라질 수 있다.\n"
      ],
      "metadata": {
        "id": "I6iktJEBvWoG"
      }
    },
    {
      "cell_type": "markdown",
      "source": [
        "## 3. Hierarchy Tensor Computations"
      ],
      "metadata": {
        "id": "bYJT8Ib6ul5U"
      }
    },
    {
      "cell_type": "markdown",
      "source": [
        "### Tensor\n",
        "- Scalar\n",
        "- Vector\n",
        "- Metrics\n",
        "\n",
        "이 것들을 General하게 Tensor라고 한다."
      ],
      "metadata": {
        "id": "qmfmOIozz6FQ"
      }
    },
    {
      "cell_type": "markdown",
      "source": [
        "### Zeroth order Tensor Operations\n",
        "- 0차원 order : Scalar\n",
        "\n",
        "> a, b ∊ ℝ ( a, b가 모든 실수 )라고 했을 때, Scalar Addition을 진행하면\n",
        "  - a + b = ℝ X ℝ = ℝ ( Cartesian Product )\n",
        "  - 10 + 20 = ℝ\n",
        "\n",
        "> Scalar Multiplication\n",
        "  - a * b = ℝ X ℝ = ℝ ( Cartesian Product )\n",
        "  - 10 * 20 = 200\n",
        "\n",
        "- 이처럼 실수 하나를 가지는 것을 Zeroth Tensor라고 부른다. \n"
      ],
      "metadata": {
        "id": "4fajZVGVx939"
      }
    },
    {
      "cell_type": "markdown",
      "source": [
        "### First Order Tensor Operations\n",
        "- Vector order\n",
        "\n",
        "#### a ∊ ℝ \n",
        "  - 스칼라 벡터 하나와\n",
        "\n",
        "#### a 벡터, b 벡터 ∊ ℝ^2 \n",
        "  - a 벡터 = \n",
        "\n",
        "\n",
        "\n"
      ],
      "metadata": {
        "id": "Ystfz0zh0wkw"
      }
    },
    {
      "cell_type": "code",
      "execution_count": null,
      "metadata": {
        "id": "IhsOZbmqtbsd"
      },
      "outputs": [],
      "source": [
        "\n"
      ]
    }
  ]
}