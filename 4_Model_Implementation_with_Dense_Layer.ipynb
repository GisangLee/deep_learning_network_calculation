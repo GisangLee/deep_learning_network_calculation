{
  "nbformat": 4,
  "nbformat_minor": 0,
  "metadata": {
    "colab": {
      "provenance": [],
      "authorship_tag": "ABX9TyNOli9Y9Fk3Og4wCqVeV4w8",
      "include_colab_link": true
    },
    "kernelspec": {
      "name": "python3",
      "display_name": "Python 3"
    },
    "language_info": {
      "name": "python"
    }
  },
  "cells": [
    {
      "cell_type": "markdown",
      "metadata": {
        "id": "view-in-github",
        "colab_type": "text"
      },
      "source": [
        "<a href=\"https://colab.research.google.com/github/GisangLee/deep_learning_network_calculation/blob/main/4_Model_Implementation_with_Dense_Layer.ipynb\" target=\"_parent\"><img src=\"https://colab.research.google.com/assets/colab-badge.svg\" alt=\"Open In Colab\"/></a>"
      ]
    },
    {
      "cell_type": "markdown",
      "source": [
        "## 1. Model Implementation with Sequential Method"
      ],
      "metadata": {
        "id": "Z3LgYV97T2YJ"
      }
    },
    {
      "cell_type": "code",
      "execution_count": 4,
      "metadata": {
        "id": "iavU1NI85ANO"
      },
      "outputs": [],
      "source": [
        "from tensorflow.keras.layers import Dense\n",
        "from tensorflow.keras.models import Sequential\n",
        "\n",
        "model = Sequential()\n",
        "model.add(Dense(units=10, activation=\"sigmoid\"))\n",
        "model.add(Dense(units=20, activation=\"sigmoid\"))"
      ]
    },
    {
      "cell_type": "markdown",
      "source": [
        "## 2. Model Implementation with Model Subclassing"
      ],
      "metadata": {
        "id": "VhQULPRYUrXl"
      }
    },
    {
      "cell_type": "code",
      "source": [
        "import tensorflow as tf\n",
        "from tensorflow.keras.layers import Dense\n",
        "from tensorflow.keras.models import Model\n",
        "\n",
        "X = tf.random.normal(shape=(4, 10))\n",
        "\n",
        "class TestModel(Model):\n",
        "\n",
        "  def __init__(self):\n",
        "    super(TestModel, self).__init__(self)\n",
        "\n",
        "    self.dense1 = Dense(units=10, activation=\"sigmoid\")\n",
        "    self.dense2 = Dense(units=20, activation=\"sigmoid\")\n",
        "\n",
        "  def call(self, x):\n",
        "    x = self.dense1(x)\n",
        "    x = self.dense2(x)\n",
        "\n",
        "    return x\n",
        "\n",
        "model = TestModel()\n",
        "\n",
        "Y = model(X)\n",
        "print(Y)"
      ],
      "metadata": {
        "colab": {
          "base_uri": "https://localhost:8080/"
        },
        "id": "iiKAzDGbT-pw",
        "outputId": "de27e61f-ea05-431c-daa7-dd87d19120ed"
      },
      "execution_count": 17,
      "outputs": [
        {
          "output_type": "stream",
          "name": "stdout",
          "text": [
            "tf.Tensor(\n",
            "[[0.5529175  0.5195212  0.36644226 0.65961564 0.55728394 0.53866494\n",
            "  0.59899807 0.5104531  0.36589447 0.39788446 0.4061496  0.56864375\n",
            "  0.5064466  0.56483144 0.42997408 0.6006455  0.59339213 0.40015477\n",
            "  0.34186485 0.60284805]\n",
            " [0.57718927 0.6510269  0.40797338 0.7211817  0.5308929  0.6502335\n",
            "  0.6479197  0.39652795 0.30183163 0.43185955 0.4399173  0.56196386\n",
            "  0.51299    0.52248144 0.59076655 0.5719248  0.5889039  0.36640745\n",
            "  0.45827577 0.6256639 ]\n",
            " [0.61928236 0.6292999  0.37266177 0.6827259  0.5174278  0.63394016\n",
            "  0.6680299  0.3993366  0.3130926  0.4143168  0.50456464 0.5268106\n",
            "  0.52875876 0.55095214 0.6001594  0.6023438  0.58887565 0.35498676\n",
            "  0.49758655 0.6097282 ]\n",
            " [0.6218768  0.6328045  0.3857668  0.6598944  0.5293283  0.6280233\n",
            "  0.6347515  0.3798648  0.3152593  0.3968481  0.46492073 0.548803\n",
            "  0.5818846  0.5607328  0.567753   0.60582286 0.6080508  0.33043867\n",
            "  0.49953553 0.623016  ]], shape=(4, 20), dtype=float32)\n"
          ]
        }
      ]
    },
    {
      "cell_type": "markdown",
      "source": [
        "## 3. Layers in Models"
      ],
      "metadata": {
        "id": "TmFEqDOlWulu"
      }
    },
    {
      "cell_type": "code",
      "source": [
        "import tensorflow as tf\n",
        "from tensorflow.keras.layers import Dense\n",
        "from tensorflow.keras.models import Sequential\n",
        "\n",
        "model = Sequential()\n",
        "\n",
        "X = tf.random.normal(shape=(4, 10))\n",
        "\n",
        "model.add(Dense(units=10, activation=\"sigmoid\"))\n",
        "model.add(Dense(units=20, activation=\"sigmoid\"))\n",
        "\n",
        "Y = model(X)\n",
        "\n",
        "print(type(model.layers))"
      ],
      "metadata": {
        "colab": {
          "base_uri": "https://localhost:8080/"
        },
        "id": "_bvfAt18WyMb",
        "outputId": "3d166f9b-42d8-408f-caa0-d905ad7fa556"
      },
      "execution_count": 16,
      "outputs": [
        {
          "output_type": "stream",
          "name": "stdout",
          "text": [
            "<class 'list'>\n"
          ]
        }
      ]
    },
    {
      "cell_type": "markdown",
      "source": [
        "## 4. Tranable Variables in Models"
      ],
      "metadata": {
        "id": "camVXEJGWxuO"
      }
    },
    {
      "cell_type": "code",
      "source": [
        "import tensorflow as tf\n",
        "from tensorflow.keras.layers import Dense\n",
        "from tensorflow.keras.models import Sequential\n",
        "\n",
        "model = Sequential()\n",
        "\n",
        "X = tf.random.normal(shape=(4, 10))\n",
        "\n",
        "model.add(Dense(units=10, activation=\"sigmoid\"))\n",
        "model.add(Dense(units=20, activation=\"sigmoid\"))\n",
        "\n",
        "Y = model(X)\n",
        "\n",
        "print(type(model.trainable_variables))\n",
        "print(len(model.trainable_variables))\n",
        "\n",
        "for train_var in model.trainable_variables:\n",
        "  print(train_var.shape)"
      ],
      "metadata": {
        "colab": {
          "base_uri": "https://localhost:8080/"
        },
        "id": "3IT4Kh8AUxOg",
        "outputId": "dc81b027-495d-4264-ad99-a464adbb7210"
      },
      "execution_count": 22,
      "outputs": [
        {
          "output_type": "stream",
          "name": "stdout",
          "text": [
            "<class 'list'>\n",
            "4\n",
            "(10, 10)\n",
            "(10,)\n",
            "(10, 20)\n",
            "(20,)\n"
          ]
        }
      ]
    },
    {
      "cell_type": "code",
      "source": [],
      "metadata": {
        "id": "dHB2sJQQXjcn"
      },
      "execution_count": null,
      "outputs": []
    }
  ]
}